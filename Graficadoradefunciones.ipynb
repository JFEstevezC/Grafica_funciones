{
  "nbformat": 4,
  "nbformat_minor": 0,
  "metadata": {
    "colab": {
      "provenance": [],
      "authorship_tag": "ABX9TyOBg1yOumuyFgPfQBnGRdwm",
      "include_colab_link": true
    },
    "kernelspec": {
      "name": "python3",
      "display_name": "Python 3"
    },
    "language_info": {
      "name": "python"
    }
  },
  "cells": [
    {
      "cell_type": "markdown",
      "metadata": {
        "id": "view-in-github",
        "colab_type": "text"
      },
      "source": [
        "<a href=\"https://colab.research.google.com/github/JFEstevezC/Grafica_funciones/blob/main/Graficadoradefunciones.ipynb\" target=\"_parent\"><img src=\"https://colab.research.google.com/assets/colab-badge.svg\" alt=\"Open In Colab\"/></a>"
      ]
    },
    {
      "cell_type": "code",
      "source": [
        "from matplotlib.pyplot import plot , show, xlim, ylim, xticks, legend, figure, subplot\n",
        "from numpy import linspace, pi, sin, cos\n",
        "import numpy as np\n",
        "import matplotlib.pyplot as plt"
      ],
      "metadata": {
        "id": "TeCAsrfqOVk3"
      },
      "execution_count": null,
      "outputs": []
    },
    {
      "cell_type": "code",
      "source": [
        "print(\"--------------------------------------------\")\n",
        "print(\"---------GRAFICADOR DE FUNCIONES------------\")\n",
        "print(\"--------------------------------------------\")\n",
        "\n",
        "print(\"\\nDame la opcion que deseas graficar: \\n\")\n",
        "# Se despliega el menu para seleccionar la opción que deseas realizar:\n",
        "print(\"1. Funcion lineal \")\n",
        "print(\"2. Funcion cuadratica \")\n",
        "print(\"3. Funcion cubica \")\n",
        "print(\"4. Funcion exponencial \")\n",
        "print(\"5. Funcion logaritmica \")\n",
        "print(\"6. Funcion trigonometrica \")\n",
        "\n",
        "opcion = int(input(\"\\n\"))"
      ],
      "metadata": {
        "colab": {
          "base_uri": "https://localhost:8080/"
        },
        "id": "xwVJKdPnOEAL",
        "outputId": "7717b2f7-be98-4e53-df88-005d246d8fa0"
      },
      "execution_count": null,
      "outputs": [
        {
          "name": "stdout",
          "output_type": "stream",
          "text": [
            "--------------------------------------------\n",
            "---------GRAFICADOR DE FUNCIONES------------\n",
            "--------------------------------------------\n",
            "\n",
            "Dame la opcion que deseas graficar: \n",
            "\n",
            "1. Funcion lineal \n",
            "2. Funcion cuadratica \n",
            "3. Funcion cubica \n",
            "4. Funcion exponencial \n",
            "5. Funcion logaritmica \n",
            "6. Funcion trigonometrica \n",
            "\n",
            "Dame la opcion: 1\n"
          ]
        }
      ]
    },
    {
      "cell_type": "code",
      "execution_count": null,
      "metadata": {
        "id": "aFVAF7oZFsVt"
      },
      "outputs": [],
      "source": [
        "# Programa para graficar una línea recta, con base en la ecuación y = mx + b\n",
        "# m es la pendiente de la recta\n",
        "# b es el punto de corte con el eje y\n",
        "\n",
        "# número de puntos a graficar\n",
        "N=100\n",
        "\n",
        "# Función para calcular los valores de y\n",
        "def funcion_lineal(m,b,x):\n",
        "  return m*x + b\n",
        "\n",
        "#input\n",
        "print(\"------------------------\")\n",
        "print(\"-----FUNCIÓN LINEAL-----\")\n",
        "print(\"------- y = mx b -------\")\n",
        "print(\"------------------------\")\n",
        "\n",
        "m = int(input(\"Digite el valor de la pendiente: \"))\n",
        "b = int(input(\"Digite el valor del punto de corte con el eje y: \"))\n",
        "\n",
        "# processing - graphication\n",
        "x = np.linspace(-10,10,num=N)\n",
        "y= funcion_lineal(m,b,x)\n",
        "\n",
        "plt.plot(x,y, color = 'r')\n",
        "plt.xlabel('x')\n",
        "plt.ylabel('y')\n",
        "plt.title('Función lineal: y = mx + b')\n",
        "plt.grid()\n",
        "plt.axhline(y=0, color= 'b')\n",
        "plt.axvline(x=0, color= 'b')\n",
        "plt.show()\n"
      ]
    },
    {
      "cell_type": "code",
      "source": [],
      "metadata": {
        "id": "CphxrO1-Owj3"
      },
      "execution_count": null,
      "outputs": []
    }
  ]
}